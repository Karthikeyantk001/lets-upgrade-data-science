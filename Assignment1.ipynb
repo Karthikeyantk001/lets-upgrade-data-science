{
  "nbformat": 4,
  "nbformat_minor": 0,
  "metadata": {
    "colab": {
      "name": "Assignment1.ipynb",
      "provenance": [],
      "collapsed_sections": []
    },
    "kernelspec": {
      "name": "python3",
      "display_name": "Python 3"
    }
  },
  "cells": [
    {
      "cell_type": "markdown",
      "metadata": {
        "id": "L2lluZXymxqi"
      },
      "source": [
        "#Question 1:"
      ]
    },
    {
      "cell_type": "markdown",
      "metadata": {
        "id": "67dwJ6fRm8DV"
      },
      "source": [
        "B. RAINBOW\n"
      ]
    },
    {
      "cell_type": "markdown",
      "metadata": {
        "id": "AeFIRShGnGc6"
      },
      "source": [
        "#Question 2:"
      ]
    },
    {
      "cell_type": "code",
      "metadata": {
        "id": "RiYkuNQnnLS4",
        "outputId": "f2a35d62-bdb6-40a0-c080-54809d156bbc",
        "colab": {
          "base_uri": "https://localhost:8080/"
        }
      },
      "source": [
        "print(\"LETS UPGRADE\")"
      ],
      "execution_count": 2,
      "outputs": [
        {
          "output_type": "stream",
          "text": [
            "LETS UPGRADE\n"
          ],
          "name": "stdout"
        }
      ]
    },
    {
      "cell_type": "markdown",
      "metadata": {
        "id": "AUZvVegqpZ7X"
      },
      "source": [
        "#Question 3:"
      ]
    },
    {
      "cell_type": "code",
      "metadata": {
        "id": "EQV8lET6nUvg",
        "outputId": "7b7134bf-37bd-4bd6-ef24-4741e3dd32cf",
        "colab": {
          "base_uri": "https://localhost:8080/"
        }
      },
      "source": [
        "cost_price=int(input())\n",
        "selling_price=int(input())\n",
        "if selling_price > cost_price :\n",
        "  print(\"Profit\")\n",
        "elif selling_price==cost_price:\n",
        "  print(\"Neither\")\n",
        "else:\n",
        "    print(\"Loss\")"
      ],
      "execution_count": 9,
      "outputs": [
        {
          "output_type": "stream",
          "text": [
            "19\n",
            "95\n",
            "Profit\n"
          ],
          "name": "stdout"
        }
      ]
    },
    {
      "cell_type": "markdown",
      "metadata": {
        "id": "gV6km6QMpd4s"
      },
      "source": [
        "#Question 4:\n"
      ]
    },
    {
      "cell_type": "code",
      "metadata": {
        "id": "d5S0VLzOpqnl",
        "outputId": "7ded371f-95e5-4cb9-d49f-174eab088ade",
        "colab": {
          "base_uri": "https://localhost:8080/"
        }
      },
      "source": [
        "Euros= int(input())\n",
        "print(Euros*80)"
      ],
      "execution_count": 11,
      "outputs": [
        {
          "output_type": "stream",
          "text": [
            "18\n",
            "1440\n"
          ],
          "name": "stdout"
        }
      ]
    }
  ]
}
