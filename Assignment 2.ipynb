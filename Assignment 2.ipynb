{
  "nbformat": 4,
  "nbformat_minor": 0,
  "metadata": {
    "colab": {
      "name": "Untitled1.ipynb",
      "provenance": []
    },
    "kernelspec": {
      "name": "python3",
      "display_name": "Python 3"
    }
  },
  "cells": [
    {
      "cell_type": "markdown",
      "metadata": {
        "id": "imi2WdFkj31_"
      },
      "source": [
        "#Question 1"
      ]
    },
    {
      "cell_type": "code",
      "metadata": {
        "id": "5Rhyb8bPi87P",
        "outputId": "a2faa524-49cc-46ae-9e79-14ec97e64d34",
        "colab": {
          "base_uri": "https://localhost:8080/"
        }
      },
      "source": [
        "l=list()\n",
        "for i in range(10):\n",
        "  num=int(input())\n",
        "  if num%2==0:\n",
        "    l.append(num)"
      ],
      "execution_count": 5,
      "outputs": [
        {
          "output_type": "stream",
          "text": [
            "1\n",
            "2\n",
            "3\n",
            "4\n",
            "5\n",
            "6\n",
            "7\n",
            "8\n",
            "9\n",
            "10\n"
          ],
          "name": "stdout"
        }
      ]
    },
    {
      "cell_type": "code",
      "metadata": {
        "id": "Bkh1qkjijzI8",
        "outputId": "b87a912e-ec50-4711-856a-33ca541dfd2d",
        "colab": {
          "base_uri": "https://localhost:8080/"
        }
      },
      "source": [
        "l"
      ],
      "execution_count": 6,
      "outputs": [
        {
          "output_type": "execute_result",
          "data": {
            "text/plain": [
              "[2, 4, 6, 8, 10]"
            ]
          },
          "metadata": {
            "tags": []
          },
          "execution_count": 6
        }
      ]
    },
    {
      "cell_type": "markdown",
      "metadata": {
        "id": "fbT663CskEhn"
      },
      "source": [
        "#Question 2"
      ]
    },
    {
      "cell_type": "code",
      "metadata": {
        "id": "wdo_TLPSkH9F"
      },
      "source": [
        "#list comprehension\n",
        "\n",
        "l1=[x for x in range(1,101) if x%10==0]"
      ],
      "execution_count": 7,
      "outputs": []
    },
    {
      "cell_type": "code",
      "metadata": {
        "id": "JmO_jGOYlFwP",
        "outputId": "b667a25c-f716-4e63-cae7-882a5c4bbc4a",
        "colab": {
          "base_uri": "https://localhost:8080/"
        }
      },
      "source": [
        "l1"
      ],
      "execution_count": 8,
      "outputs": [
        {
          "output_type": "execute_result",
          "data": {
            "text/plain": [
              "[10, 20, 30, 40, 50, 60, 70, 80, 90, 100]"
            ]
          },
          "metadata": {
            "tags": []
          },
          "execution_count": 8
        }
      ]
    },
    {
      "cell_type": "markdown",
      "metadata": {
        "id": "UHjGZUPylPr1"
      },
      "source": [
        "#Question 3"
      ]
    },
    {
      "cell_type": "code",
      "metadata": {
        "id": "xToJR4zPlVGq",
        "outputId": "db5d409d-652f-43a0-c375-e71f7bd80ff5",
        "colab": {
          "base_uri": "https://localhost:8080/"
        }
      },
      "source": [
        "n=int(input())\n",
        "d={x:x**2 for x in range(1,n+1) }\n",
        "print(d)"
      ],
      "execution_count": 14,
      "outputs": [
        {
          "output_type": "stream",
          "text": [
            "8\n",
            "{1: 1, 2: 4, 3: 9, 4: 16, 5: 25, 6: 36, 7: 49, 8: 64}\n"
          ],
          "name": "stdout"
        }
      ]
    },
    {
      "cell_type": "markdown",
      "metadata": {
        "id": "e1wpQ5Ttm1t8"
      },
      "source": [
        "#Question 4"
      ]
    },
    {
      "cell_type": "code",
      "metadata": {
        "id": "fcVqjA7am4oD",
        "outputId": "6979aa61-94d8-4aca-95f5-cbbd71671494",
        "colab": {
          "base_uri": "https://localhost:8080/"
        }
      },
      "source": [
        "d=dict()\n",
        "for i in range(int(input())):\n",
        "  x,y=input().split()\n",
        "  y=int(y)\n",
        "  d[x]=y;\n",
        "a=d[\"UP\"]-d[\"DOWN\"]\n",
        "b=d[\"RIGHT\"]-d[\"LEFT\"]\n",
        "ans=round((a**2+b**2)**0.5)\n",
        "print(ans)\n"
      ],
      "execution_count": 24,
      "outputs": [
        {
          "output_type": "stream",
          "text": [
            "4\n",
            "UP 5\n",
            "DOWN 3\n",
            "LEFT 3\n",
            "RIGHT 2\n",
            "2\n"
          ],
          "name": "stdout"
        }
      ]
    },
    {
      "cell_type": "code",
      "metadata": {
        "id": "0Tu-OCJZrN21"
      },
      "source": [
        ""
      ],
      "execution_count": null,
      "outputs": []
    }
  ]
}